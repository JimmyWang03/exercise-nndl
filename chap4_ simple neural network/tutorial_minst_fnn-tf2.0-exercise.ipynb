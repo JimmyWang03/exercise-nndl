{
 "cells": [
  {
   "cell_type": "markdown",
   "metadata": {},
   "source": [
    "## 准备数据"
   ]
  },
  {
   "cell_type": "code",
   "execution_count": 87,
   "metadata": {},
   "outputs": [],
   "source": [
    "import os\n",
    "import numpy as np\n",
    "import tensorflow as tf\n",
    "from tensorflow import keras\n",
    "from tensorflow.keras import layers, optimizers, datasets\n",
    "\n",
    "os.environ['TF_CPP_MIN_LOG_LEVEL'] = '2'  # or any {'0', '1', '2'}\n",
    "\n",
    "def mnist_dataset():\n",
    "    (x, y), (x_test, y_test) = datasets.mnist.load_data()\n",
    "    #normalize\n",
    "    x = x/255.0\n",
    "    x_test = x_test/255.0\n",
    "    \n",
    "    return (x, y), (x_test, y_test)"
   ]
  },
  {
   "cell_type": "code",
   "execution_count": 88,
   "metadata": {},
   "outputs": [
    {
     "name": "stdout",
     "output_type": "stream",
     "text": [
      "[(1, 'a'), (2, 'b'), (3, 'c'), (4, 'd')]\n"
     ]
    }
   ],
   "source": [
    "print(list(zip([1, 2, 3, 4], ['a', 'b', 'c', 'd'])))"
   ]
  },
  {
   "cell_type": "markdown",
   "metadata": {},
   "source": [
    "## 建立模型"
   ]
  },
  {
   "cell_type": "code",
   "execution_count": 89,
   "metadata": {},
   "outputs": [],
   "source": [
    "class myModel:\n",
    "    def __init__(self):\n",
    "        ####################\n",
    "        '''声明模型对应的参数'''\n",
    "        self.W1 = tf.Variable(shape=[28*28, 256], dtype=tf.float32,initial_value=tf.random.uniform(shape=[28*28, 256],\n",
    "                              minval=-0.1, maxval=0.1))\n",
    "        self.b1 = tf.Variable(shape=[256], dtype=tf.float32, initial_value=tf.zeros(256))\n",
    "        self.W2 = tf.Variable(shape=[256, 16], dtype=tf.float32,initial_value=tf.random.uniform(shape=[256, 16],\n",
    "                              minval=-0.1, maxval=0.1))\n",
    "        self.b2 = tf.Variable(shape=[16], dtype=tf.float32, initial_value=tf.zeros(16))\n",
    "        self.trainable_variables = [self.W1, self.W2, self.b1, self.b2]\n",
    "        ####################\n",
    "    def __call__(self, x):\n",
    "        ####################\n",
    "        '''实现模型函数体，返回未归一化的logits'''\n",
    "        flat_x = tf.reshape(x, shape=[-1, 28*28])\n",
    "        h1 = tf.tanh(tf.matmul(flat_x, self.W1) + self.b1)\n",
    "        logits = tf.matmul(h1, self.W2) + self.b2\n",
    "        ####################\n",
    "        return logits\n",
    "        \n",
    "model = myModel()\n",
    "\n",
    "optimizer = optimizers.Adam()"
   ]
  },
  {
   "cell_type": "markdown",
   "metadata": {},
   "source": [
    "## 计算 loss"
   ]
  },
  {
   "cell_type": "code",
   "execution_count": 90,
   "metadata": {},
   "outputs": [],
   "source": [
    "@tf.function\n",
    "def compute_loss(logits, labels):\n",
    "    return tf.reduce_mean(\n",
    "        tf.nn.sparse_softmax_cross_entropy_with_logits(\n",
    "            logits=logits, labels=labels))\n",
    "\n",
    "@tf.function\n",
    "def compute_accuracy(logits, labels):\n",
    "    predictions = tf.argmax(logits, axis=1)\n",
    "    return tf.reduce_mean(tf.cast(tf.equal(predictions, labels), tf.float32))\n",
    "\n",
    "@tf.function\n",
    "def train_one_step(model, optimizer, x, y):\n",
    "    with tf.GradientTape() as tape:\n",
    "        logits = model(x)\n",
    "        loss = compute_loss(logits, y)\n",
    "\n",
    "    # compute gradient\n",
    "    trainable_vars = [model.W1, model.W2, model.b1, model.b2]\n",
    "    grads = tape.gradient(loss, trainable_vars)\n",
    "    for g, v in zip(grads, trainable_vars):\n",
    "        v.assign_sub(0.01*g)\n",
    "\n",
    "    accuracy = compute_accuracy(logits, y)\n",
    "\n",
    "    # loss and accuracy is scalar tensor\n",
    "    return loss, accuracy\n",
    "\n",
    "@tf.function\n",
    "def test(model, x, y):\n",
    "    logits = model(x)\n",
    "    loss = compute_loss(logits, y)\n",
    "    accuracy = compute_accuracy(logits, y)\n",
    "    return loss, accuracy"
   ]
  },
  {
   "cell_type": "markdown",
   "metadata": {},
   "source": [
    "## 实际训练"
   ]
  },
  {
   "cell_type": "code",
   "execution_count": 91,
   "metadata": {},
   "outputs": [
    {
     "name": "stdout",
     "output_type": "stream",
     "text": [
      "epoch 0 : loss 2.8543417 ; accuracy 0.040516667\n",
      "epoch 1 : loss 2.8258078 ; accuracy 0.048\n",
      "epoch 2 : loss 2.798144 ; accuracy 0.056283332\n",
      "epoch 3 : loss 2.7713015 ; accuracy 0.06428333\n",
      "epoch 4 : loss 2.745235 ; accuracy 0.07328334\n",
      "epoch 5 : loss 2.7199013 ; accuracy 0.08268333\n",
      "epoch 6 : loss 2.6952624 ; accuracy 0.09201667\n",
      "epoch 7 : loss 2.6712816 ; accuracy 0.10205\n",
      "epoch 8 : loss 2.647925 ; accuracy 0.11285\n",
      "epoch 9 : loss 2.6251621 ; accuracy 0.12415\n",
      "epoch 10 : loss 2.6029632 ; accuracy 0.13621667\n",
      "epoch 11 : loss 2.5813015 ; accuracy 0.14881666\n",
      "epoch 12 : loss 2.5601518 ; accuracy 0.16171667\n",
      "epoch 13 : loss 2.5394902 ; accuracy 0.17471667\n",
      "epoch 14 : loss 2.5192943 ; accuracy 0.18848333\n",
      "epoch 15 : loss 2.4995444 ; accuracy 0.20343333\n",
      "epoch 16 : loss 2.4802206 ; accuracy 0.21826667\n",
      "epoch 17 : loss 2.4613042 ; accuracy 0.2329\n",
      "epoch 18 : loss 2.4427786 ; accuracy 0.24668333\n",
      "epoch 19 : loss 2.424628 ; accuracy 0.26113334\n",
      "epoch 20 : loss 2.4068372 ; accuracy 0.27498335\n",
      "epoch 21 : loss 2.3893917 ; accuracy 0.28821668\n",
      "epoch 22 : loss 2.372278 ; accuracy 0.30176666\n",
      "epoch 23 : loss 2.3554833 ; accuracy 0.31488332\n",
      "epoch 24 : loss 2.3389962 ; accuracy 0.32766667\n",
      "epoch 25 : loss 2.322805 ; accuracy 0.33966666\n",
      "epoch 26 : loss 2.306899 ; accuracy 0.3517\n",
      "epoch 27 : loss 2.2912679 ; accuracy 0.36368334\n",
      "epoch 28 : loss 2.2759025 ; accuracy 0.3751\n",
      "epoch 29 : loss 2.260793 ; accuracy 0.38581666\n",
      "epoch 30 : loss 2.2459311 ; accuracy 0.3958\n",
      "epoch 31 : loss 2.2313092 ; accuracy 0.40645\n",
      "epoch 32 : loss 2.2169185 ; accuracy 0.41651666\n",
      "epoch 33 : loss 2.2027516 ; accuracy 0.42538333\n",
      "epoch 34 : loss 2.1888018 ; accuracy 0.43488333\n",
      "epoch 35 : loss 2.1750624 ; accuracy 0.44415\n",
      "epoch 36 : loss 2.1615267 ; accuracy 0.45335\n",
      "epoch 37 : loss 2.1481888 ; accuracy 0.46158335\n",
      "epoch 38 : loss 2.1350427 ; accuracy 0.4693\n",
      "epoch 39 : loss 2.122083 ; accuracy 0.47741666\n",
      "epoch 40 : loss 2.1093042 ; accuracy 0.48505\n",
      "epoch 41 : loss 2.0967014 ; accuracy 0.49236667\n",
      "epoch 42 : loss 2.0842698 ; accuracy 0.5003667\n",
      "epoch 43 : loss 2.0720043 ; accuracy 0.50705\n",
      "epoch 44 : loss 2.0599012 ; accuracy 0.5138\n",
      "epoch 45 : loss 2.0479558 ; accuracy 0.5211167\n",
      "epoch 46 : loss 2.0361643 ; accuracy 0.52741665\n",
      "epoch 47 : loss 2.0245228 ; accuracy 0.53356665\n",
      "epoch 48 : loss 2.0130277 ; accuracy 0.53978336\n",
      "epoch 49 : loss 2.0016747 ; accuracy 0.5463833\n",
      "test loss 1.9779536 ; accuracy 0.5657\n"
     ]
    }
   ],
   "source": [
    "train_data, test_data = mnist_dataset()\n",
    "for epoch in range(50):\n",
    "    loss, accuracy = train_one_step(model, optimizer, \n",
    "                                    tf.constant(train_data[0], dtype=tf.float32), \n",
    "                                    tf.constant(train_data[1], dtype=tf.int64))\n",
    "    print('epoch', epoch, ': loss', loss.numpy(), '; accuracy', accuracy.numpy())\n",
    "loss, accuracy = test(model, \n",
    "                      tf.constant(test_data[0], dtype=tf.float32), \n",
    "                      tf.constant(test_data[1], dtype=tf.int64))\n",
    "\n",
    "print('test loss', loss.numpy(), '; accuracy', accuracy.numpy())"
   ]
  }
 ],
 "metadata": {
  "kernelspec": {
   "display_name": "Python 3",
   "language": "python",
   "name": "python3"
  },
  "language_info": {
   "codemirror_mode": {
    "name": "ipython",
    "version": 3
   },
   "file_extension": ".py",
   "mimetype": "text/x-python",
   "name": "python",
   "nbconvert_exporter": "python",
   "pygments_lexer": "ipython3",
   "version": "3.10.0"
  }
 },
 "nbformat": 4,
 "nbformat_minor": 2
}
